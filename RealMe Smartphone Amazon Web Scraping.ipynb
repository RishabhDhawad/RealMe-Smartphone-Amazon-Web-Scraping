{
 "cells": [
  {
   "cell_type": "code",
   "execution_count": null,
   "id": "76fb202d-54bc-45bc-83e4-b4e23fa55eed",
   "metadata": {},
   "outputs": [],
   "source": [
    "!pip install autoscraper\n",
    "!pip install pandas openpyxl"
   ]
  },
  {
   "cell_type": "code",
   "execution_count": null,
   "id": "4f3461dc-ec2c-438f-a945-76f32c4d7345",
   "metadata": {},
   "outputs": [],
   "source": [
    "from autoscraper import AutoScraper"
   ]
  },
  {
   "cell_type": "code",
   "execution_count": null,
   "id": "64a151dc-eeb1-42f7-8719-1a024eb4ccc6",
   "metadata": {},
   "outputs": [],
   "source": [
    "amazon_url = \"https://www.amazon.in/realme-mobile/s?k=realme+mobile\"\n",
    "\n",
    "wanted_list = [\"₹7,498\", \"realme NARZO N61 (Voyage Blue,4GB RAM+64GB Storage) 90Hz Eye Comfort Display | IP54 Dust & Water Resistance | 48-Month Fluency | Charger in The Box\" , \"\"]"
   ]
  },
  {
   "cell_type": "code",
   "execution_count": null,
   "id": "a5e13a1e-6f02-4eae-87fb-664e8889ca35",
   "metadata": {},
   "outputs": [],
   "source": [
    "scraper=AutoScraper()\n",
    "result=scraper.build(amazon_url, wanted_list)\n",
    "print(result)"
   ]
  },
  {
   "cell_type": "code",
   "execution_count": null,
   "id": "ee2024b6-1372-46cd-be6e-b24ab767e4bc",
   "metadata": {},
   "outputs": [],
   "source": [
    "scraper.get_result_similar(amazon_url, grouped=True)"
   ]
  },
  {
   "cell_type": "code",
   "execution_count": null,
   "id": "7672ac8a-a67e-43b3-96f0-ce055f6e2f8f",
   "metadata": {},
   "outputs": [],
   "source": [
    "scraper.set_rule_aliases({'rule_uklr':'Title' , 'rule_obmc' : 'Price'})\n",
    "scraper.keep_rules(['rule_uklr', 'rule_obmc'])\n",
    "scraper.save('amazon-search')"
   ]
  },
  {
   "cell_type": "code",
   "execution_count": null,
   "id": "eb26ccd7-0783-46d3-af79-8079aa9d1dd8",
   "metadata": {},
   "outputs": [],
   "source": [
    "result=scraper.get_result_similar(\"https://www.amazon.in/realme-mobile/s?k=realme+mobile\",group_by_alias=True)"
   ]
  },
  {
   "cell_type": "code",
   "execution_count": null,
   "id": "ccd08794-d9e2-4ca3-ac07-f2cbf971c377",
   "metadata": {},
   "outputs": [],
   "source": [
    "result['Title']"
   ]
  },
  {
   "cell_type": "code",
   "execution_count": null,
   "id": "62f5ce41-7660-46b4-8694-24987a326747",
   "metadata": {},
   "outputs": [],
   "source": [
    "# Fetch titles and prices from the result dictionary\n",
    "titles = result.get('Title', [])\n",
    "prices = result.get('Price', [])"
   ]
  },
  {
   "cell_type": "code",
   "execution_count": null,
   "id": "bbb2dfec-7057-4277-bc18-5d6ae56635bb",
   "metadata": {},
   "outputs": [],
   "source": [
    "# Align lengths (sometimes prices or titles might be fewer due to website structure)\n",
    "min_len = min(len(titles), len(prices))\n",
    "titles = titles[:min_len]\n",
    "prices = prices[:min_len]"
   ]
  },
  {
   "cell_type": "code",
   "execution_count": null,
   "id": "9fc443e1-f4b7-4ea6-a060-9918241e4dc2",
   "metadata": {},
   "outputs": [],
   "source": [
    "# Create a DataFrame\n",
    "df = pd.DataFrame({\n",
    "    'Title': titles,\n",
    "    'Price': prices\n",
    "})"
   ]
  },
  {
   "cell_type": "code",
   "execution_count": null,
   "id": "7eb3f08d-22ff-467c-a745-d1043f4da730",
   "metadata": {},
   "outputs": [],
   "source": [
    "# Save to Excel\n",
    "df.to_excel('realme_smartphones.xlsx', index=False)\n",
    "\n",
    "print(\"✅ Data successfully saved to realme_smartphones.xlsx\")"
   ]
  },
  {
   "cell_type": "code",
   "execution_count": null,
   "id": "6dae23a8-49cd-4688-bb92-e74beec2018e",
   "metadata": {},
   "outputs": [],
   "source": [
    "from IPython.display import FileLink\n",
    "FileLink('realme_smartphones.xlsx')"
   ]
  }
 ],
 "metadata": {
  "kernelspec": {
   "display_name": "Python 3 (ipykernel)",
   "language": "python",
   "name": "python3"
  },
  "language_info": {
   "codemirror_mode": {
    "name": "ipython",
    "version": 3
   },
   "file_extension": ".py",
   "mimetype": "text/x-python",
   "name": "python",
   "nbconvert_exporter": "python",
   "pygments_lexer": "ipython3",
   "version": "3.12.7"
  }
 },
 "nbformat": 4,
 "nbformat_minor": 5
}
